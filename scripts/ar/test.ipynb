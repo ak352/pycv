{
 "metadata": {
  "name": "",
  "signature": "sha256:500cd265821a0606ce8a41f226558a24548a50a1519b03ede7d3d2caea8fcf40"
 },
 "nbformat": 3,
 "nbformat_minor": 0,
 "worksheets": [
  {
   "cells": [
    {
     "cell_type": "code",
     "collapsed": false,
     "input": [
      "from OpenGL.GL import *\n",
      "from OpenGL.GLU import *\n",
      "import pygame, pygame.image\n",
      "from pygame.locals import *\n",
      "import ar\n",
      "import pickle\n",
      "\n",
      "width,height=1000,747\n",
      "\n",
      "def setup():\n",
      "    \"\"\" Setup window and pygame environment \"\"\"\n",
      "    pygame.init()\n",
      "    pygame.display.set_mode((width, height), OPENGL|DOUBLEBUF)\n",
      "    pygame.display.set_caption('OpenGL AR demo')\n",
      "\n",
      "if __name__==\"__main__\":\n",
      "    # load camera data\n",
      "    with open(\"../../data/ar_camera.pkl\", \"r\") as f:\n",
      "        K = pickle.load(f)\n",
      "        Rt = pickle.load(f)\n",
      "\n",
      "    setup()\n",
      "    ar.draw_background('../../data/book_perspective.jpg')\n",
      "    ar.set_projection_from_camera(K, width, height)\n",
      "    ar.set_modelview_from_camera(Rt)\n",
      "    ar.draw_teapot(0.1)\n",
      "\n",
      "    \n",
      "\n",
      "    while True:\n",
      "        event = pygame.event.poll()\n",
      "        if event.type in (QUIT, KEYDOWN):\n",
      "            break\n",
      "        pygame.display.flip()\n",
      "\n"
     ],
     "language": "python",
     "metadata": {},
     "outputs": [],
     "prompt_number": 1
    },
    {
     "cell_type": "code",
     "collapsed": false,
     "input": [],
     "language": "python",
     "metadata": {},
     "outputs": []
    }
   ],
   "metadata": {}
  }
 ]
}